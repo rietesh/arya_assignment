{
 "cells": [
  {
   "cell_type": "code",
   "execution_count": null,
   "id": "13f19215",
   "metadata": {},
   "outputs": [],
   "source": [
    "from statsmodels.stats.outliers_influence import variance_inflation_factor\n",
    "from sklearn.model_selection import train_test_split\n",
    "from sklearn.feature_selection import SelectKBest\n",
    "from sklearn.feature_selection import f_classif\n",
    "from sklearn.feature_selection import mutual_info_classif\n",
    "from sklearn.preprocessing import MinMaxScaler\n",
    "from sklearn.svm import LinearSVC\n",
    "from sklearn.linear_model import LogisticRegression\n",
    "from sklearn.pipeline import make_pipeline\n",
    "from sklearn.feature_selection import RFE\n",
    "from sklearn.feature_selection import SequentialFeatureSelector\n",
    "from sklearn.preprocessing import StandardScaler\n",
    "from sklearn.svm import SVC\n",
    "from sklearn.neighbors import KNeighborsClassifier\n",
    "from sklearn.tree import DecisionTreeClassifier\n",
    "from sklearn.decomposition import PCA\n",
    "import pandas as pd\n",
    "import numpy as np\n",
    "import matplotlib.pyplot as plt\n",
    "import seaborn as sns\n",
    "import sys\n",
    "import os\n",
    "import re"
   ]
  },
  {
   "cell_type": "code",
   "execution_count": null,
   "id": "4fcb7cc3",
   "metadata": {},
   "outputs": [],
   "source": [
    "train = pd.read_csv('./training_set.csv')\n",
    "train = train.drop(columns=['Unnamed: 0'])"
   ]
  },
  {
   "cell_type": "code",
   "execution_count": null,
   "id": "35a6bc56",
   "metadata": {},
   "outputs": [],
   "source": [
    "train.info()"
   ]
  },
  {
   "cell_type": "code",
   "execution_count": null,
   "id": "9a42b1d9",
   "metadata": {},
   "outputs": [],
   "source": [
    "fig,ax = plt.subplots(nrows=20,ncols=3,figsize=(10,25))\n",
    "\n",
    "l = 0\n",
    "for i in range(20):\n",
    "    for j in range(3):\n",
    "        try:\n",
    "            sns.kdeplot(train[train.columns[l]], ax=ax[i][j])\n",
    "            l += 1\n",
    "        except:\n",
    "            break"
   ]
  },
  {
   "cell_type": "markdown",
   "id": "7b3cc556",
   "metadata": {},
   "source": [
    "# Feature Selection / Dimensionality Reduction\n",
    "\n",
    "I have tried several methods for feature selection and the summary of the methods are outlined below:\n",
    "\n",
    "1. Univariate Feature Selection\n",
    "    - Multicollinearity Analysis Using Heat map and VIF\n",
    "    - ANOVA correlation coefficient\n",
    "    - Mututal Information \n",
    "2. Recursive Feature Elimination (Top down approach)\n",
    "    - Logistic Regression\n",
    "    - LinearSVC\n",
    "3. Sequential Feature Selection (Bottom up approach)\n",
    "    - KNeighborsClassifier\n",
    "    - Tree based Models\n",
    "4. Principal Componenet Analysis (PCA)"
   ]
  },
  {
   "cell_type": "markdown",
   "id": "fbd626ed",
   "metadata": {},
   "source": [
    "## 1.A Multicolinearity Analysis Using Correlation Matrix and VIF"
   ]
  },
  {
   "cell_type": "code",
   "execution_count": null,
   "id": "b54afd38",
   "metadata": {},
   "outputs": [],
   "source": [
    "corr = train.drop(columns=['Y']).corr()\n",
    "f, ax = plt.subplots(figsize=(20, 15))\n",
    "mask = np.triu(np.ones_like(corr, dtype=bool))\n",
    "cmap = sns.diverging_palette(230, 20, as_cmap=True)\n",
    "sns.heatmap(corr, annot=False, mask = mask, cmap=cmap)\n",
    "plt.title('Correlation Heatmap')"
   ]
  },
  {
   "cell_type": "markdown",
   "id": "b406e288",
   "metadata": {},
   "source": [
    "From the above plot we see that Features X34 and X32 are highly correlated, and also X40 is correlated with X32 and X34, For regression analysis it is important to drop highly correlated columns and hence I have decided to drop X34 for further analysis, I also confirm the same observation by calculating VIF where we regress each column with all the others and confirm that X34 and X32 are having high VIF values and hence can be dropped. It is also evident from the pair plots below."
   ]
  },
  {
   "cell_type": "code",
   "execution_count": null,
   "id": "5b43755b",
   "metadata": {},
   "outputs": [],
   "source": [
    "X = train.drop(columns=['Y'])\n",
    "vif = [variance_inflation_factor(X.values, i) for i in range(len(X.columns))]\n",
    "cols = X.columns.values\n",
    "f, ax = plt.subplots(figsize=(20, 10))\n",
    "ax.bar(cols,vif)\n",
    "plt.title('VIF plot: Columns vs VIF')"
   ]
  },
  {
   "cell_type": "code",
   "execution_count": null,
   "id": "19472714",
   "metadata": {},
   "outputs": [],
   "source": [
    "sns.set(rc={'figure.figsize':(11.7,8.27)})\n",
    "cData_attr = train[['X32','X34','X40']]\n",
    "g = sns.pairplot(cData_attr, diag_kind='kde')\n",
    "g.fig.suptitle(\"'Pair plot of X32, X34 and X40'\", y=1.08)"
   ]
  },
  {
   "cell_type": "code",
   "execution_count": null,
   "id": "5141538a",
   "metadata": {},
   "outputs": [],
   "source": [
    "upper = corr.where(np.triu(np.ones(corr.shape), k=1).astype(bool))\n",
    "to_drop = [column for column in upper.columns if any(upper[column] > 0.9)]\n",
    "train = train.drop(columns=to_drop)\n",
    "train.shape"
   ]
  },
  {
   "cell_type": "markdown",
   "id": "3a19a1cf",
   "metadata": {},
   "source": [
    "## 1.B, 1.C ANNOVA and Mutual Information"
   ]
  },
  {
   "cell_type": "code",
   "execution_count": null,
   "id": "1f5203f0",
   "metadata": {},
   "outputs": [],
   "source": [
    "X = train.drop(columns=['Y'])\n",
    "y = train['Y']\n",
    "\n",
    "X_train, X_test, y_train, y_test = train_test_split(X,y, test_size=0.2, random_state=4535, stratify=y, shuffle=True)\n",
    "\n",
    "# Let us select 30 features\n",
    "select = SelectKBest(f_classif, k=30)\n",
    "select.fit(X, y)\n",
    "scores = -np.log10(select.pvalues_)\n",
    "scores /= scores.max()\n",
    "\n",
    "feature_importance = list(zip(X_train.columns.values, scores))\n",
    "feature_importance.sort(key = lambda x: x[1], reverse=True) \n",
    "feature_importance = [list(t) for t in zip(*feature_importance)]\n",
    "\n",
    "f, ax = plt.subplots(figsize=(20, 10))\n",
    "ax.bar(feature_importance[0][:30], feature_importance[1][:30])\n",
    "plt.title('Plot representing the level of significance of 30 best features using ANOVA')"
   ]
  },
  {
   "cell_type": "code",
   "execution_count": null,
   "id": "642e1385",
   "metadata": {},
   "outputs": [],
   "source": [
    "#30 best features according to Mutual information\n",
    "select = SelectKBest(mutual_info_classif, k=30)\n",
    "select.fit(X, y)\n",
    "scores /= scores.max()\n",
    "\n",
    "feature_importance = list(zip(X_train.columns.values, scores))\n",
    "feature_importance.sort(key = lambda x: x[1], reverse=True) \n",
    "feature_importance = [list(t) for t in zip(*feature_importance)]\n",
    "\n",
    "f, ax = plt.subplots(figsize=(20, 10))\n",
    "ax.bar(feature_importance[0][:30], feature_importance[1][:30])\n",
    "plt.title('Plot representing the level of significance of 30 best features using Mutual Information')"
   ]
  },
  {
   "cell_type": "markdown",
   "id": "1e434203",
   "metadata": {},
   "source": [
    "## 2.A Recursive Feature Elimination using weights of Logistic Regression Model"
   ]
  },
  {
   "cell_type": "code",
   "execution_count": null,
   "id": "d9956e0c",
   "metadata": {},
   "outputs": [],
   "source": [
    "scaled_X = MinMaxScaler().fit_transform(X)\n",
    "estimator = LogisticRegression()\n",
    "selectorr = RFE(estimator,n_features_to_select=30, step=1)\n",
    "selectorr = selectorr.fit(scaled_X, y)\n",
    "rank = selectorr.ranking_\n",
    "\n",
    "feature_importance = list(zip(X_train.columns.values, rank))\n",
    "feature_importance.sort(key = lambda x: x[1], reverse=True) \n",
    "feature_importance = [list(t) for t in zip(*feature_importance)]\n",
    "f, ax = plt.subplots(figsize=(20, 10))\n",
    "ax.bar(feature_importance[0][:30], feature_importance[1][:30])\n",
    "plt.title('Selected Features according to RFE and Logistic Regression')"
   ]
  },
  {
   "cell_type": "code",
   "execution_count": null,
   "id": "1971c081",
   "metadata": {},
   "outputs": [],
   "source": [
    "estimator = LinearSVC()\n",
    "selectorr = RFE(estimator,n_features_to_select=30, step=1)\n",
    "selectorr = selectorr.fit(scaled_X, y)\n",
    "rank = selectorr.ranking_\n",
    "\n",
    "feature_importance = list(zip(X_train.columns.values, rank))\n",
    "feature_importance.sort(key = lambda x: x[1], reverse=True) \n",
    "feature_importance = [list(t) for t in zip(*feature_importance)]\n",
    "f, ax = plt.subplots(figsize=(20, 10))\n",
    "ax.bar(feature_importance[0][:30], feature_importance[1][:30])\n",
    "plt.title('Selected Features according to RFE and LinearSVC')"
   ]
  },
  {
   "cell_type": "markdown",
   "id": "e96c2d90",
   "metadata": {},
   "source": [
    "## 3. Sequential Feature Selection using KNeighborsClassifier and DecisionTreeClassifier"
   ]
  },
  {
   "cell_type": "code",
   "execution_count": null,
   "id": "f98e5951",
   "metadata": {},
   "outputs": [],
   "source": [
    "%%time\n",
    "estimator = KNeighborsClassifier(weights='distance')\n",
    "sfs = SequentialFeatureSelector(estimator, n_features_to_select=30, n_jobs=-1, cv=2, scoring='accuracy')\n",
    "sfs.fit(X, y)\n",
    "fi_Neighbors = X.columns.values[sfs.support_]\n",
    "fi_Neighbors"
   ]
  },
  {
   "cell_type": "code",
   "execution_count": null,
   "id": "c5817b72",
   "metadata": {},
   "outputs": [],
   "source": [
    "%%time\n",
    "estimator = DecisionTreeClassifier()\n",
    "sfs = SequentialFeatureSelector(estimator, n_features_to_select=30, n_jobs=-1, cv=2, scoring='accuracy')\n",
    "sfs.fit(X, y)\n",
    "fi_tree_fwd = X.columns.values[sfs.support_]\n",
    "fi_tree_fwd"
   ]
  },
  {
   "cell_type": "code",
   "execution_count": null,
   "id": "2e79b215",
   "metadata": {},
   "outputs": [],
   "source": [
    "%%time\n",
    "from sklearn.tree import ExtraTreeClassifier\n",
    "estimator = ExtraTreeClassifier()\n",
    "sfs = SequentialFeatureSelector(estimator, direction='forward',n_features_to_select=30, n_jobs=-1, cv=2, scoring='accuracy')\n",
    "sfs.fit(X, y)\n",
    "fi_tree_bwd = X.columns.values[sfs.support_]\n",
    "fi_tree_bwd"
   ]
  },
  {
   "cell_type": "markdown",
   "id": "1be2c2c6",
   "metadata": {},
   "source": [
    "# PCA"
   ]
  },
  {
   "cell_type": "code",
   "execution_count": null,
   "id": "628ee93d",
   "metadata": {},
   "outputs": [],
   "source": [
    "pca = PCA(n_components=30)\n",
    "pca.fit(X)\n",
    "pca_x = pca.transform(X)\n",
    "sum(pca.explained_variance_ratio_)"
   ]
  }
 ],
 "metadata": {
  "kernelspec": {
   "display_name": "Python 3 (ipykernel)",
   "language": "python",
   "name": "python3"
  },
  "language_info": {
   "codemirror_mode": {
    "name": "ipython",
    "version": 3
   },
   "file_extension": ".py",
   "mimetype": "text/x-python",
   "name": "python",
   "nbconvert_exporter": "python",
   "pygments_lexer": "ipython3",
   "version": "3.9.10"
  }
 },
 "nbformat": 4,
 "nbformat_minor": 5
}
